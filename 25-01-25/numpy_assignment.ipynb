{
 "cells": [
  {
   "cell_type": "code",
   "execution_count": 3,
   "id": "59810bb3-ee41-4fbc-9184-97cc23890cd4",
   "metadata": {},
   "outputs": [
    {
     "name": "stdout",
     "output_type": "stream",
     "text": [
      "[10 11 12 13 14 15 16 17 18 19 20 21 22 23 24 25 26 27 28 29 30 31 32 33\n",
      " 34 35 36 37 38 39 40 41 42 43 44 45 46 47 48 49 50]\n"
     ]
    }
   ],
   "source": [
    "#create 1D array of numbers from 10 to 50.\n",
    "import numpy as np\n",
    "arr=np.arange(10,51)\n",
    "print(arr)"
   ]
  },
  {
   "cell_type": "code",
   "execution_count": 2,
   "id": "7d2dde1b-2873-4193-915d-c361da9935ed",
   "metadata": {},
   "outputs": [
    {
     "name": "stdout",
     "output_type": "stream",
     "text": [
      "[[0.97182172 0.04660148 0.60391593]\n",
      " [0.57216666 0.80330195 0.80900431]\n",
      " [0.95160896 0.12463879 0.82892791]]\n"
     ]
    }
   ],
   "source": [
    "#Create a 3x3 array of random numbers between 0 and 1.\n",
    "ran_ar=np.random.random((3,3))\n",
    "print(ran_ar)"
   ]
  },
  {
   "cell_type": "code",
   "execution_count": 3,
   "id": "42a2da32-ead3-4975-becc-e82a0020d9e9",
   "metadata": {},
   "outputs": [
    {
     "name": "stdout",
     "output_type": "stream",
     "text": [
      "Shape: (3, 3)\n",
      "Size: 9\n",
      "DataType: float64\n"
     ]
    }
   ],
   "source": [
    "#Find the shape,size,and data type of the array you created in the previous task.\n",
    "print(\"Shape:\",ran_ar.shape)\n",
    "print(\"Size:\",ran_ar.size)\n",
    "print(\"DataType:\",ran_ar.dtype)"
   ]
  },
  {
   "cell_type": "code",
   "execution_count": 5,
   "id": "25316019-c72b-4933-8f6f-f4277da14896",
   "metadata": {},
   "outputs": [
    {
     "name": "stdout",
     "output_type": "stream",
     "text": [
      "[6 7 8]\n"
     ]
    }
   ],
   "source": [
    "#Add 5 to every element of a 1D array.\n",
    "ar1=np.array([1,2,3])\n",
    "print(ar1+5)\n"
   ]
  },
  {
   "cell_type": "code",
   "execution_count": 6,
   "id": "bc2e6c34-e5e2-4f7c-86a4-ae6da2d78f30",
   "metadata": {},
   "outputs": [
    {
     "name": "stdout",
     "output_type": "stream",
     "text": [
      "[[19 22]\n",
      " [43 50]]\n"
     ]
    }
   ],
   "source": [
    "#Multiply two 2D arrays element-wise.\n",
    "ar2=np.array([[1,2],[3,4]])\n",
    "ar3=np.array([[5,6],[7,8]])\n",
    "res=np.dot(ar2,ar3)\n",
    "print(res)"
   ]
  },
  {
   "cell_type": "code",
   "execution_count": 7,
   "id": "1133f2ef-4ae1-4fba-aae4-5fa811ec9701",
   "metadata": {},
   "outputs": [
    {
     "name": "stdout",
     "output_type": "stream",
     "text": [
      "[[ 1  2  3  4  5]\n",
      " [ 6  7  8  9 10]\n",
      " [11 12 13 14 15]\n",
      " [16 17 18 19 20]\n",
      " [21 22 23 24 25]]\n",
      "First row: [1 2 3 4 5]\n",
      "Last column: [ 5 10 15 20 25]\n",
      "Subarray: [[ 1  2]\n",
      " [ 6  7]\n",
      " [11 12]]\n"
     ]
    }
   ],
   "source": [
    "#Create a 5x5 array of integers from 1 to 25.\n",
    "a1=np.arange(1,26).reshape(5,5)\n",
    "print(a1)\n",
    "#Extract first row.\n",
    "print(\"First row:\",a1[0,:])\n",
    "#Extract last column\n",
    "print(\"Last column:\",a1[:,4])\n",
    "#A subarray of the first three rows and first two columns.\n",
    "print(\"Subarray:\",a1[:3,:2])"
   ]
  },
  {
   "cell_type": "code",
   "execution_count": 8,
   "id": "b46dc778-8296-4dad-8b11-997eee2c5069",
   "metadata": {},
   "outputs": [
    {
     "name": "stdout",
     "output_type": "stream",
     "text": [
      "[[ 1  2  3  4  5]\n",
      " [ 6  7  8  9 10]\n",
      " [11 12 13 14 15]\n",
      " [16 17 18 19 20]\n",
      " [21 22 23 24 25]]\n",
      "First row: [1 2 3 4 5]\n",
      "Last column: [ 5 10 15 20 25]\n",
      "Subarray: [[ 1  2]\n",
      " [ 6  7]\n",
      " [11 12]]\n"
     ]
    }
   ],
   "source": [
    "#Create a 5x5 array of integers from 1 to 25.\n",
    "a1=np.arange(1,26).reshape(5,5)\n",
    "print(a1)\n",
    "#Extract first row.\n",
    "print(\"First row:\",a1[0,:])\n",
    "#Extract last column\n",
    "print(\"Last column:\",a1[:,4])\n",
    "#A subarray of the first three rows and first two columns.\n",
    "print(\"Subarray:\",a1[:3,:2])"
   ]
  },
  {
   "cell_type": "code",
   "execution_count": 9,
   "id": "abdacdc1-8a65-47be-9a5a-1e87ab43e5ba",
   "metadata": {},
   "outputs": [
    {
     "name": "stdout",
     "output_type": "stream",
     "text": [
      "[[ 1  2  3  4]\n",
      " [ 5  6  7  8]\n",
      " [ 9 10 11 12]]\n"
     ]
    }
   ],
   "source": [
    "#Convert a 1D array of numbers from 1 to 12 into a 3x4 matrix.\n",
    "arr=np.arange(1,13)\n",
    "arr=arr.reshape(3,4)\n",
    "print(arr)"
   ]
  },
  {
   "cell_type": "code",
   "execution_count": 10,
   "id": "eefdb9f5-8bab-4e45-99a0-6a9869a5675c",
   "metadata": {},
   "outputs": [
    {
     "name": "stdout",
     "output_type": "stream",
     "text": [
      "[[1. 1. 1.]\n",
      " [1. 1. 1.]\n",
      " [1. 1. 1.]]\n",
      "[[2. 3. 4.]\n",
      " [2. 3. 4.]\n",
      " [2. 3. 4.]]\n"
     ]
    }
   ],
   "source": [
    "#Create a 3x3 matrix of ones.Add a 1D array to each row.\n",
    "a=np.ones((3,3))\n",
    "print(a)\n",
    "a1=np.array([1,2,3])\n",
    "print(a+a1)"
   ]
  },
  {
   "cell_type": "code",
   "execution_count": 11,
   "id": "20612260-8599-48f4-bc55-605a3acd8290",
   "metadata": {},
   "outputs": [
    {
     "name": "stdout",
     "output_type": "stream",
     "text": [
      "[38 48  3 38 19 15 33 33 31 43]\n",
      "[15]\n"
     ]
    }
   ],
   "source": [
    "#Create 1D array of random integers between 1 and 50.Extract all elements that are divisible by 5.\n",
    "arr=np.random.randint(1,50,size=10)\n",
    "print(arr)\n",
    "div_5=arr[arr%5==0]\n",
    "print(div_5)"
   ]
  },
  {
   "cell_type": "code",
   "execution_count": 12,
   "id": "d2b164df-de52-45b4-b67b-69383f565bdf",
   "metadata": {},
   "outputs": [
    {
     "name": "stdout",
     "output_type": "stream",
     "text": [
      "[[19 22]\n",
      " [43 50]]\n"
     ]
    }
   ],
   "source": [
    "#Create two 2x2 matrices and perform matrix multiplication.\n",
    "mat1=np.array([[1,2],[3,4]])\n",
    "mat2=np.array([[5,6],[7,8]])\n",
    "print(mat1.dot(mat2))"
   ]
  },
  {
   "cell_type": "code",
   "execution_count": 13,
   "id": "964559a8-03d9-40b3-ae1f-6d8ba28b369c",
   "metadata": {},
   "outputs": [
    {
     "name": "stdout",
     "output_type": "stream",
     "text": [
      "[[ 1  2  3  4]\n",
      " [ 5  6  7  8]\n",
      " [ 9 10 11 12]\n",
      " [13 14 15 16]]\n",
      "[ 1  6 11 16]\n"
     ]
    }
   ],
   "source": [
    "#Given a 4x4 array,use fancy indexing to extract the diagonal elements.\n",
    "ar=np.arange(1,17).reshape(4,4)\n",
    "print(ar)\n",
    "diag=ar[np.arange(4),np.arange(4)]\n",
    "print(diag)"
   ]
  },
  {
   "cell_type": "code",
   "execution_count": null,
   "id": "5b790dbb-49b8-4eb2-945d-dffb50dff2ee",
   "metadata": {},
   "outputs": [],
   "source": []
  }
 ],
 "metadata": {
  "kernelspec": {
   "display_name": "Python [conda env:base] *",
   "language": "python",
   "name": "conda-base-py"
  },
  "language_info": {
   "codemirror_mode": {
    "name": "ipython",
    "version": 3
   },
   "file_extension": ".py",
   "mimetype": "text/x-python",
   "name": "python",
   "nbconvert_exporter": "python",
   "pygments_lexer": "ipython3",
   "version": "3.12.7"
  }
 },
 "nbformat": 4,
 "nbformat_minor": 5
}
