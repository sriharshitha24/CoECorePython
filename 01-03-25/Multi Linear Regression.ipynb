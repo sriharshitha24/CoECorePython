{
 "cells": [
  {
   "cell_type": "code",
   "execution_count": 10,
   "id": "3821cd9b",
   "metadata": {},
   "outputs": [
    {
     "name": "stdout",
     "output_type": "stream",
     "text": [
      "Intercept: 33576.01713061816\n",
      "Coefficients: [  182.01284797 -6252.67665953  1391.86295503]\n",
      "Mean Squared Error: 299314729.30776143\n",
      "R-squared: 0.5210964331075817\n",
      "Predicted Price for new house: 322633.83297644486\n"
     ]
    },
    {
     "name": "stderr",
     "output_type": "stream",
     "text": [
      "C:\\Users\\CVR\\anaconda3\\Lib\\site-packages\\sklearn\\base.py:464: UserWarning: X does not have valid feature names, but LinearRegression was fitted with feature names\n",
      "  warnings.warn(\n"
     ]
    }
   ],
   "source": [
    "import numpy as np\n",
    "import pandas as pd\n",
    "from sklearn.model_selection import train_test_split\n",
    "from sklearn.linear_model import LinearRegression\n",
    "from sklearn.metrics import mean_squared_error, r2_score\n",
    " \n",
    "# Create a simple dataset\n",
    "data = {\n",
    "    'Size': [1500, 1600, 1700, 1800, 1900, 2000, 2100, 2200],\n",
    "    'Bedrooms': [3, 3, 3, 4, 4, 4, 5, 5],\n",
    "    'Age': [10, 15, 10, 20, 30, 15, 20, 25],\n",
    "    'Price': [300000, 320000, 340000, 360000, 400000, 370000, 420000, 430000]\n",
    "}\n",
    " \n",
    "# Convert to DataFrame\n",
    "df = pd.DataFrame(data)\n",
    " \n",
    "# Define independent variables (features) and dependent variable (target)\n",
    "X = df[['Size', 'Bedrooms', 'Age']]  #  3 Independent variables\n",
    "y = df['Price']  # Dependent variable\n",
    " \n",
    "#X = df[['Size', 'Bedrooms']]  #  2 Independent variables\n",
    "#y = df['Price']  # Dependent variable\n",
    " \n",
    "#X = df[['Size']]  #  1 Independent variables\n",
    "#y = df['Price']  # Dependent variable\n",
    " \n",
    "# Split the data into training and testing sets\n",
    "X_train, X_test, y_train, y_test = train_test_split(X, y, test_size=0.2, random_state=42)\n",
    " \n",
    "# Create a linear regression model\n",
    "model = LinearRegression()\n",
    " \n",
    "# Train the model\n",
    "model.fit(X_train, y_train)\n",
    " \n",
    "# Make predictions on the test set\n",
    "y_pred = model.predict(X_test)\n",
    " \n",
    "# Coefficients and intercept\n",
    "print(\"Intercept:\", model.intercept_)\n",
    "print(\"Coefficients:\", model.coef_)\n",
    " \n",
    "# Evaluate the model\n",
    "mse = mean_squared_error(y_test, y_pred)\n",
    "r2 = r2_score(y_test, y_pred)\n",
    " \n",
    "print(\"Mean Squared Error:\", mse)\n",
    "print(\"R-squared:\", r2)\n",
    " \n",
    " \n",
    "new_house = np.array([[1500,3,25]])\n",
    "predicted_price = model.predict(new_house)\n",
    "print(f\"Predicted Price for new house: {predicted_price[0]}\")"
   ]
  },
  {
   "cell_type": "code",
   "execution_count": 26,
   "id": "2e5fa069",
   "metadata": {},
   "outputs": [
    {
     "name": "stdout",
     "output_type": "stream",
     "text": [
      "Intercept: 4.292824701981549\n",
      "Coefficients: [-1.09279520e-01  4.33504334e-02 -2.04972602e-01  4.40282611e-02\n",
      "  3.77391056e-05  1.52212162e-01 -3.53372029e-01 -3.20200804e-01\n",
      "  1.75960551e-02  7.68233961e-02 -9.13449280e-02 -2.81542501e-01\n",
      " -6.97267143e-04]\n",
      "Mean Squared Error: 0.06853348464256041\n",
      "R-squared: 0.8825140263270392\n",
      "Predicted Alcohol content: 0.9265374250150815\n"
     ]
    },
    {
     "name": "stderr",
     "output_type": "stream",
     "text": [
      "C:\\Users\\CVR\\anaconda3\\Lib\\site-packages\\sklearn\\base.py:464: UserWarning: X does not have valid feature names, but LinearRegression was fitted with feature names\n",
      "  warnings.warn(\n"
     ]
    }
   ],
   "source": [
    "import numpy as np\n",
    "import pandas as pd\n",
    "from sklearn.model_selection import train_test_split\n",
    "from sklearn.linear_model import LinearRegression\n",
    "from sklearn.metrics import mean_squared_error, r2_score\n",
    "\n",
    "# Load dataset\n",
    "df = pd.read_csv(\"C:\\\\Users\\\\CVR\\\\Downloads\\\\wine.csv\")\n",
    "\n",
    "# Define independent variables (features) and dependent variable (target)\n",
    "X = df[['Alcohol','Malic.acid', 'Ash', 'Acl', 'Mg', 'Phenols', 'Flavanoids', 'Nonflavanoid.phenols', \n",
    "        'Proanth', 'Color.int', 'Hue', 'OD', 'Proline']]  # Independent variables\n",
    "y = df['Wine']  # Dependent variable\n",
    "\n",
    "# Split the data into training and testing sets\n",
    "X_train, X_test, y_train, y_test = train_test_split(X, y, test_size=0.2, random_state=42)\n",
    "\n",
    "# Create a linear regression model\n",
    "model = LinearRegression()\n",
    "\n",
    "# Train the model\n",
    "model.fit(X_train, y_train)\n",
    "\n",
    "# Make predictions on the test set\n",
    "y_pred = model.predict(X_test)\n",
    "\n",
    "# Coefficients and intercept\n",
    "print(\"Intercept:\", model.intercept_)\n",
    "print(\"Coefficients:\", model.coef_)\n",
    "\n",
    "# Evaluate the model\n",
    "mse = mean_squared_error(y_test, y_pred)\n",
    "r2 = r2_score(y_test, y_pred)\n",
    "\n",
    "print(\"Mean Squared Error:\", mse)\n",
    "print(\"R-squared:\", r2)\n",
    "\n",
    "# Predict Alcohol for a new wine sample\n",
    "new_sample = np.array([[14,2.5, 2.2, 15, 120, 3.0, 3.2, 0.4, 2.0, 5.0, 1.02, 3.5, 1000]])\n",
    "predicted_alcohol = model.predict(new_sample)\n",
    "print(f\"Predicted Alcohol content: {predicted_alcohol[0]}\")\n"
   ]
  },
  {
   "cell_type": "code",
   "execution_count": null,
   "id": "a48c2d63",
   "metadata": {},
   "outputs": [],
   "source": []
  }
 ],
 "metadata": {
  "kernelspec": {
   "display_name": "Python 3 (ipykernel)",
   "language": "python",
   "name": "python3"
  },
  "language_info": {
   "codemirror_mode": {
    "name": "ipython",
    "version": 3
   },
   "file_extension": ".py",
   "mimetype": "text/x-python",
   "name": "python",
   "nbconvert_exporter": "python",
   "pygments_lexer": "ipython3",
   "version": "3.11.5"
  }
 },
 "nbformat": 4,
 "nbformat_minor": 5
}
