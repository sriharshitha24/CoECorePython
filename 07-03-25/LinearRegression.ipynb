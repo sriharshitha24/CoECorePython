{
 "cells": [
  {
   "cell_type": "code",
   "execution_count": 22,
   "id": "d187beee",
   "metadata": {},
   "outputs": [
    {
     "name": "stdout",
     "output_type": "stream",
     "text": [
      "mean of x column: 3.0\n",
      "mean of y column: 3.6\n",
      "0.4\n",
      "Intercept: 2.4\n",
      "y=0.4x+2.4\n"
     ]
    }
   ],
   "source": [
    "import numpy as np\n",
    "import pandas as pd\n",
    "data=pd.read_csv(\"C:\\\\Users\\\\CVR\\\\Downloads\\\\calcc.csv\")\n",
    "x_mean=data['x'].mean()\n",
    "print(\"mean of x column:\",x_mean)\n",
    "y_mean=data['y'].mean()\n",
    "print(\"mean of y column:\",y_mean)\n",
    "slope=np.sum((data['x']-x_mean)*(data['y']-y_mean))/sum((data['x']-x_mean)**2)\n",
    "print(slope)\n",
    "c=y_mean-(slope*x_mean)\n",
    "print(\"Intercept:\",c)\n",
    "print(f\"y={slope}x+{c}\")"
   ]
  },
  {
   "cell_type": "code",
   "execution_count": 50,
   "id": "ad65bc7f",
   "metadata": {},
   "outputs": [
    {
     "name": "stdout",
     "output_type": "stream",
     "text": [
      "y=0.4x+2.4\n"
     ]
    }
   ],
   "source": [
    "import numpy as np\n",
    "def LinearRegression(x,y):\n",
    "    x_m=np.mean(x)\n",
    "    y_m=np.mean(y)\n",
    "    n=len(x)\n",
    "    num=0\n",
    "    den=0\n",
    "    for i in range(n):\n",
    "        num+=(x[i]-x_m)*(y[i]-y_m)\n",
    "        den+=(x[i]-x_m)**2\n",
    "    m=num/den\n",
    "    c=y_m-m*x_m\n",
    "    return m,c\n",
    "x=[1,2,3,4,5]\n",
    "y=[3,4,2,4,5]\n",
    "m,c=LinearRegression(x,y)\n",
    "print(f\"y={m}x+{c}\")"
   ]
  },
  {
   "cell_type": "code",
   "execution_count": 51,
   "id": "f6a00905",
   "metadata": {},
   "outputs": [
    {
     "data": {
      "text/plain": [
       "[2.8, 3.2, 3.6, 4.0, 4.4]"
      ]
     },
     "execution_count": 51,
     "metadata": {},
     "output_type": "execute_result"
    }
   ],
   "source": [
    "'''def predict(x):\n",
    "    for i in range(1,6):\n",
    "        y_pred=0.4*i+2.4\n",
    "        print(f\"y={y_pred}\")\n",
    "    return y_pred\n",
    "y_pred=predict(x)\n",
    "#print(y_pred)\n",
    "#x=[1,2,3,4,5]'''\n",
    "def Predict(x):\n",
    "    yp=[]\n",
    "    for i in range(len(x)):\n",
    "        yp.append(m*x[i]+c)\n",
    "    return yp\n",
    "y_p=Predict(x)\n",
    "y_p"
   ]
  },
  {
   "cell_type": "code",
   "execution_count": 52,
   "id": "0726ba60",
   "metadata": {},
   "outputs": [
    {
     "data": {
      "text/plain": [
       "([3, 4, 2, 4, 5], [2.8, 3.2, 3.6, 4.0, 4.4])"
      ]
     },
     "execution_count": 52,
     "metadata": {},
     "output_type": "execute_result"
    }
   ],
   "source": [
    "y,y_p"
   ]
  },
  {
   "cell_type": "code",
   "execution_count": 59,
   "id": "a5eaa7f5",
   "metadata": {},
   "outputs": [
    {
     "name": "stdout",
     "output_type": "stream",
     "text": [
      "3.6\n",
      "accuracy: 0.6923076923076922\n"
     ]
    }
   ],
   "source": [
    "def r2_score(y_p,y):\n",
    "    ym=np.mean(y)\n",
    "    print(ym)\n",
    "    num=0\n",
    "    den=0\n",
    "    for i in range(len(y)):\n",
    "        num+=(y_p[i]-ym)**2\n",
    "        den+=(y[i]-ym)**2\n",
    "    return num/den\n",
    "print(\"accuracy:\",1-r2_score(y_p,y))"
   ]
  },
  {
   "cell_type": "code",
   "execution_count": 61,
   "id": "4a6630e9",
   "metadata": {},
   "outputs": [
    {
     "name": "stdout",
     "output_type": "stream",
     "text": [
      "mean of head size column: 3633.9915611814345\n",
      "mean of brain weight column: 1282.873417721519\n",
      "0.2634293394893995\n",
      "Intercept: 325.573421049442\n",
      "y=0.2634293394893995x+325.573421049442\n"
     ]
    }
   ],
   "source": [
    "import numpy as np\n",
    "import pandas as pd\n",
    "data=pd.read_csv(\"C:\\\\Users\\\\CVR\\\\Downloads\\\\headbrain.csv\")\n",
    "x_mean=data['Head Size(cm^3)'].mean()\n",
    "print(\"mean of head size column:\",x_mean)\n",
    "y_mean=data['Brain Weight(grams)'].mean()\n",
    "print(\"mean of brain weight column:\",y_mean)\n",
    "slope=np.sum((data['Head Size(cm^3)']-x_mean)*(data['Brain Weight(grams)']-y_mean))/sum((data['Head Size(cm^3)']-x_mean)**2)\n",
    "print(slope)\n",
    "c=y_mean-(slope*x_mean)\n",
    "print(\"Intercept:\",c)\n",
    "print(f\"y={slope}x+{c}\")"
   ]
  }
 ],
 "metadata": {
  "kernelspec": {
   "display_name": "Python 3 (ipykernel)",
   "language": "python",
   "name": "python3"
  },
  "language_info": {
   "codemirror_mode": {
    "name": "ipython",
    "version": 3
   },
   "file_extension": ".py",
   "mimetype": "text/x-python",
   "name": "python",
   "nbconvert_exporter": "python",
   "pygments_lexer": "ipython3",
   "version": "3.11.5"
  }
 },
 "nbformat": 4,
 "nbformat_minor": 5
}
