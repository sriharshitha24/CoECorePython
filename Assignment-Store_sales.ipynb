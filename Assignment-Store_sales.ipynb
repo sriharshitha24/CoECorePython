{
 "cells": [
  {
   "cell_type": "markdown",
   "id": "d736cf34-e043-4789-91b0-c19887e0143f",
   "metadata": {},
   "source": [
    "# Assignment on Store_sales dataset\n",
    "\n",
    "**Load the Dataset**"
   ]
  },
  {
   "cell_type": "code",
   "execution_count": 7,
   "id": "fd79e268-0bd3-4844-af8d-0b1e2b7ceea6",
   "metadata": {},
   "outputs": [
    {
     "data": {
      "text/html": [
       "<div>\n",
       "<style scoped>\n",
       "    .dataframe tbody tr th:only-of-type {\n",
       "        vertical-align: middle;\n",
       "    }\n",
       "\n",
       "    .dataframe tbody tr th {\n",
       "        vertical-align: top;\n",
       "    }\n",
       "\n",
       "    .dataframe thead th {\n",
       "        text-align: right;\n",
       "    }\n",
       "</style>\n",
       "<table border=\"1\" class=\"dataframe\">\n",
       "  <thead>\n",
       "    <tr style=\"text-align: right;\">\n",
       "      <th></th>\n",
       "      <th>store_id</th>\n",
       "      <th>city</th>\n",
       "      <th>Jan</th>\n",
       "      <th>Feb</th>\n",
       "      <th>Mar</th>\n",
       "      <th>Apr</th>\n",
       "      <th>May</th>\n",
       "      <th>Jun</th>\n",
       "      <th>July</th>\n",
       "      <th>Aug</th>\n",
       "      <th>Sep</th>\n",
       "      <th>Oct</th>\n",
       "      <th>Nov</th>\n",
       "      <th>Dec</th>\n",
       "    </tr>\n",
       "  </thead>\n",
       "  <tbody>\n",
       "    <tr>\n",
       "      <th>0</th>\n",
       "      <td>S_1</td>\n",
       "      <td>Texas</td>\n",
       "      <td>8</td>\n",
       "      <td>20</td>\n",
       "      <td>13</td>\n",
       "      <td>21</td>\n",
       "      <td>17</td>\n",
       "      <td>20</td>\n",
       "      <td>24</td>\n",
       "      <td>17</td>\n",
       "      <td>16</td>\n",
       "      <td>9</td>\n",
       "      <td>7</td>\n",
       "      <td>6</td>\n",
       "    </tr>\n",
       "    <tr>\n",
       "      <th>1</th>\n",
       "      <td>S_2</td>\n",
       "      <td>California</td>\n",
       "      <td>12</td>\n",
       "      <td>19</td>\n",
       "      <td>15</td>\n",
       "      <td>15</td>\n",
       "      <td>11</td>\n",
       "      <td>19</td>\n",
       "      <td>7</td>\n",
       "      <td>15</td>\n",
       "      <td>10</td>\n",
       "      <td>11</td>\n",
       "      <td>21</td>\n",
       "      <td>19</td>\n",
       "    </tr>\n",
       "    <tr>\n",
       "      <th>2</th>\n",
       "      <td>S_3</td>\n",
       "      <td>California</td>\n",
       "      <td>16</td>\n",
       "      <td>16</td>\n",
       "      <td>14</td>\n",
       "      <td>19</td>\n",
       "      <td>23</td>\n",
       "      <td>6</td>\n",
       "      <td>13</td>\n",
       "      <td>13</td>\n",
       "      <td>15</td>\n",
       "      <td>14</td>\n",
       "      <td>24</td>\n",
       "      <td>8</td>\n",
       "    </tr>\n",
       "    <tr>\n",
       "      <th>3</th>\n",
       "      <td>S_4</td>\n",
       "      <td>Texas</td>\n",
       "      <td>8</td>\n",
       "      <td>18</td>\n",
       "      <td>13</td>\n",
       "      <td>10</td>\n",
       "      <td>14</td>\n",
       "      <td>14</td>\n",
       "      <td>6</td>\n",
       "      <td>8</td>\n",
       "      <td>8</td>\n",
       "      <td>18</td>\n",
       "      <td>7</td>\n",
       "      <td>11</td>\n",
       "    </tr>\n",
       "    <tr>\n",
       "      <th>4</th>\n",
       "      <td>S_5</td>\n",
       "      <td>Texas</td>\n",
       "      <td>19</td>\n",
       "      <td>5</td>\n",
       "      <td>24</td>\n",
       "      <td>9</td>\n",
       "      <td>5</td>\n",
       "      <td>24</td>\n",
       "      <td>10</td>\n",
       "      <td>5</td>\n",
       "      <td>24</td>\n",
       "      <td>15</td>\n",
       "      <td>6</td>\n",
       "      <td>13</td>\n",
       "    </tr>\n",
       "  </tbody>\n",
       "</table>\n",
       "</div>"
      ],
      "text/plain": [
       "  store_id        city  Jan  Feb  Mar  Apr  May  Jun  July  Aug  Sep  Oct  \\\n",
       "0      S_1       Texas    8   20   13   21   17   20    24   17   16    9   \n",
       "1      S_2  California   12   19   15   15   11   19     7   15   10   11   \n",
       "2      S_3  California   16   16   14   19   23    6    13   13   15   14   \n",
       "3      S_4       Texas    8   18   13   10   14   14     6    8    8   18   \n",
       "4      S_5       Texas   19    5   24    9    5   24    10    5   24   15   \n",
       "\n",
       "   Nov  Dec  \n",
       "0    7    6  \n",
       "1   21   19  \n",
       "2   24    8  \n",
       "3    7   11  \n",
       "4    6   13  "
      ]
     },
     "execution_count": 7,
     "metadata": {},
     "output_type": "execute_result"
    }
   ],
   "source": [
    "import pandas as pd\n",
    "store_sales_df = pd.read_csv(\"C:\\\\Users\\\\gajul\\\\Downloads\\\\store_sales.csv\")\n",
    "store_sales_df.head()"
   ]
  },
  {
   "cell_type": "markdown",
   "id": "13b8009e-28aa-4c56-8804-a6c417182541",
   "metadata": {},
   "source": [
    "**Calculate the total sales for each store across all months.**"
   ]
  },
  {
   "cell_type": "code",
   "execution_count": 9,
   "id": "3f148a00-b0e5-4caf-85d3-3483c4f62697",
   "metadata": {},
   "outputs": [
    {
     "name": "stdout",
     "output_type": "stream",
     "text": [
      "   store_id  Total_Sales\n",
      "0       S_1          178\n",
      "1       S_2          174\n",
      "2       S_3          181\n",
      "3       S_4          135\n",
      "4       S_5          159\n",
      "..      ...          ...\n",
      "95     S_96          185\n",
      "96     S_97          154\n",
      "97     S_98          168\n",
      "98     S_99          173\n",
      "99    S_100          180\n",
      "\n",
      "[100 rows x 2 columns]\n"
     ]
    }
   ],
   "source": [
    "store_sales_df['Total_Sales'] = store_sales_df.iloc[:, 2:].sum(axis=1)\n",
    "total_sales = store_sales_df[['store_id', 'Total_Sales']]\n",
    "print(total_sales)"
   ]
  },
  {
   "cell_type": "markdown",
   "id": "47673b50-bfea-4eb6-9e50-918e87c7c1ff",
   "metadata": {},
   "source": [
    "**Find the average sales for each month across all stores**"
   ]
  },
  {
   "cell_type": "code",
   "execution_count": 65,
   "id": "cfea1028-bd85-4552-ab60-936a13c7d84b",
   "metadata": {},
   "outputs": [
    {
     "name": "stdout",
     "output_type": "stream",
     "text": [
      "Jan             14.46\n",
      "Feb             15.09\n",
      "Mar             14.56\n",
      "Apr             14.57\n",
      "May             13.56\n",
      "Jun             13.80\n",
      "July            14.38\n",
      "Aug             15.81\n",
      "Sep             14.91\n",
      "Oct             14.10\n",
      "Nov             15.31\n",
      "Dec             13.57\n",
      "Total_Sales    348.24\n",
      "dtype: float64\n"
     ]
    }
   ],
   "source": [
    "average_sales = store_sales_df.iloc[:, 2:].mean()\n",
    "print(average_sales)"
   ]
  },
  {
   "cell_type": "markdown",
   "id": "6dd912e0-9984-42b8-9bf0-db10a69a300c",
   "metadata": {},
   "source": [
    "**Identify the store with the highest total sales.**"
   ]
  },
  {
   "cell_type": "code",
   "execution_count": 59,
   "id": "dca54b78-dbe5-4095-8e14-e1a73c34dff6",
   "metadata": {},
   "outputs": [
    {
     "name": "stdout",
     "output_type": "stream",
     "text": [
      "store_id       S_62\n",
      "Total_Sales     428\n",
      "Name: 61, dtype: object\n"
     ]
    }
   ],
   "source": [
    "store_sales_df['Total_Sales'] = store_sales_df.iloc[:, 2:].sum(axis=1)\n",
    "highest_sales_store = store_sales_df.loc[store_sales_df['Total_Sales'].idxmax(), ['store_id', 'Total_Sales']]\n",
    "print(highest_sales_store)"
   ]
  },
  {
   "cell_type": "markdown",
   "id": "1c6e048a-7dbe-4975-8126-0ff9d46d0b8d",
   "metadata": {},
   "source": [
    "**Calculate the total sales for each city.**"
   ]
  },
  {
   "cell_type": "code",
   "execution_count": 57,
   "id": "98fdf5f3-5721-4353-b34d-713e98c20450",
   "metadata": {},
   "outputs": [
    {
     "name": "stdout",
     "output_type": "stream",
     "text": [
      "city\n",
      "Arizona        7561\n",
      "California    14410\n",
      "Texas         11407\n",
      "dtype: int64\n"
     ]
    }
   ],
   "source": [
    "total_sales_by_city = store_sales_df.groupby('city').sum().iloc[:, 2:].sum(axis=1)\n",
    "print(total_sales_by_city)"
   ]
  },
  {
   "cell_type": "markdown",
   "id": "b9cd0e10-c37e-485a-9b6b-e6a67cd19c7d",
   "metadata": {},
   "source": [
    "**List stores with total sales greater than 200**"
   ]
  },
  {
   "cell_type": "code",
   "execution_count": 55,
   "id": "a1134ab7-96fe-416c-8da1-daddad0064e6",
   "metadata": {},
   "outputs": [
    {
     "name": "stdout",
     "output_type": "stream",
     "text": [
      "   store_id  Total_Sales\n",
      "37     S_38          207\n",
      "39     S_40          204\n",
      "50     S_51          210\n",
      "61     S_62          214\n",
      "69     S_70          206\n",
      "72     S_73          213\n",
      "77     S_78          211\n",
      "85     S_86          214\n",
      "86     S_87          203\n",
      "92     S_93          204\n"
     ]
    }
   ],
   "source": [
    "store_sales_df['Total_Sales'] = store_sales_df.iloc[:, 2:].sum(axis=1)\n",
    "stores_greater_than_200 = store_sales_df[store_sales_df['Total_Sales'] > 200]\n",
    "print(stores_greater_than_200[['store_id', 'Total_Sales']])"
   ]
  },
  {
   "cell_type": "markdown",
   "id": "00a46208-69b2-4577-9f68-c278af43c557",
   "metadata": {},
   "source": [
    "**Which month had the highest average sales across all stores?**\n"
   ]
  },
  {
   "cell_type": "code",
   "execution_count": 45,
   "id": "9b85a613-a4b4-499c-9782-97e585120f52",
   "metadata": {},
   "outputs": [
    {
     "name": "stdout",
     "output_type": "stream",
     "text": [
      "The month with the highest average sales across all stores is Aug with an average sales of 15.81.\n"
     ]
    }
   ],
   "source": [
    "average_sales = store_sales_df.iloc[:, 2:].mean()\n",
    "highest_average_sales_month = average_sales.idxmax()\n",
    "highest_average_sales_value = average_sales.max()\n",
    "print(f\"The month with the highest average sales across all stores is {highest_average_sales_month} with an average sales of {highest_average_sales_value:.2f}.\")"
   ]
  },
  {
   "cell_type": "markdown",
   "id": "37455b7e-1c05-45d5-9dd1-454527319264",
   "metadata": {},
   "source": [
    "**Which city generated the most revenue?**"
   ]
  },
  {
   "cell_type": "code",
   "execution_count": 47,
   "id": "0ceea861-e5f6-4a86-86f0-788d68a898a5",
   "metadata": {},
   "outputs": [
    {
     "name": "stdout",
     "output_type": "stream",
     "text": [
      "The city with the highest total sales is California with total sales of 6888.\n"
     ]
    }
   ],
   "source": [
    "total_sales_by_city = store_sales_df.groupby('city').sum().iloc[:, 2:].sum(axis=1)\n",
    "highest_sales_city = total_sales_by_city.idxmax()\n",
    "highest_sales_value = total_sales_by_city.max()\n",
    "print(f\"The city with the highest total sales is {highest_sales_city} with total sales of {highest_sales_value}.\")"
   ]
  }
 ],
 "metadata": {
  "kernelspec": {
   "display_name": "Python [conda env:base] *",
   "language": "python",
   "name": "conda-base-py"
  },
  "language_info": {
   "codemirror_mode": {
    "name": "ipython",
    "version": 3
   },
   "file_extension": ".py",
   "mimetype": "text/x-python",
   "name": "python",
   "nbconvert_exporter": "python",
   "pygments_lexer": "ipython3",
   "version": "3.12.7"
  }
 },
 "nbformat": 4,
 "nbformat_minor": 5
}
