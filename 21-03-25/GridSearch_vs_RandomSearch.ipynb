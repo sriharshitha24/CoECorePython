{
 "cells": [
  {
   "cell_type": "markdown",
   "id": "575742b6",
   "metadata": {},
   "source": [
    "# Hyperparameter tuning"
   ]
  },
  {
   "cell_type": "code",
   "execution_count": null,
   "id": "0084524f",
   "metadata": {},
   "outputs": [],
   "source": [
    " #Hyperparameter tuning in machine learning - settings that control the learning process of a model.unlike parameters(which are learned from the data)hyperparameters are set before the training.\n",
    " #Hyperparameter for decision trees - a: max_depth , b: min_samples_split,c: criterian\n",
    " #Hyperparameter for random forest - a: n_estimators , b: max_features\n",
    " #Two main techniques for Hyperparameter tuning(To Increase the accuracy) -a. GRID SEARCH CV(tries every combination of hyperparameters  but takes too long time for finding best combination) \n",
    "                                                                        # -b.RANDOM SEARCH CV(randomly selects a few combinations and tests them .It is faster but less exhaustive(can't find best combination))"
   ]
  },
  {
   "cell_type": "code",
   "execution_count": 1,
   "id": "1c5137db",
   "metadata": {},
   "outputs": [],
   "source": [
    "#Step-1 : Import the necessary libraries\n",
    "import numpy as np\n",
    "import pandas as np\n",
    "import matplotlib.pyplot as plt \n",
    "import seaborn as sns\n",
    "from sklearn.model_selection import train_test_split,GridSearchCV,RandomizedSearchCV\n",
    "from sklearn.ensemble import RandomForestClassifier\n",
    "from sklearn.metrics import accuracy_score,classification_report,confusion_matrix\n",
    "from sklearn.datasets import load_iris"
   ]
  },
  {
   "cell_type": "code",
   "execution_count": 2,
   "id": "e69f16a7",
   "metadata": {},
   "outputs": [],
   "source": [
    "#Step -2 : Load and Explore Dataset\n",
    "df = load_iris()\n",
    "x = df.data\n",
    "y = df.target"
   ]
  },
  {
   "cell_type": "code",
   "execution_count": 8,
   "id": "d7095b85",
   "metadata": {},
   "outputs": [],
   "source": [
    "#Step -3 : Define Hyperparameter Grid\n",
    "param_grid ={\n",
    "         'n_estimators':[10,50,100,200],\n",
    "         'max_depth' : [5,10,20,None],\n",
    "         'min_samples_split' : [2,5,10],\n",
    "         'min_samples_leaf' : [1,2,4]\n",
    "    }\n",
    "#Split the data into training and testing sets(80-20 split)\n",
    "x_train,x_test,y_train,y_test=train_test_split(x,y,test_size=0.2,random_state=42)"
   ]
  },
  {
   "cell_type": "code",
   "execution_count": 9,
   "id": "b7db151c",
   "metadata": {},
   "outputs": [
    {
     "name": "stdout",
     "output_type": "stream",
     "text": [
      "Fitting 5 folds for each of 144 candidates, totalling 720 fits\n",
      "Best parameters for grid search: {'max_depth': 5, 'min_samples_leaf': 1, 'min_samples_split': 5, 'n_estimators': 10}\n"
     ]
    }
   ],
   "source": [
    "#Step-4 :Apply Grid Search cv\n",
    "grid_search = GridSearchCV(RandomForestClassifier(),param_grid,cv=5,n_jobs=-1,verbose=1)\n",
    "grid_search.fit(x_train,y_train)\n",
    "#Get best parameters\n",
    "print(\"Best parameters for grid search:\",grid_search.best_params_)"
   ]
  },
  {
   "cell_type": "code",
   "execution_count": 10,
   "id": "7f4a00aa",
   "metadata": {},
   "outputs": [
    {
     "name": "stdout",
     "output_type": "stream",
     "text": [
      "Fitting 5 folds for each of 10 candidates, totalling 50 fits\n",
      "Best parameters for Randomized search: {'n_estimators': 100, 'min_samples_split': 10, 'min_samples_leaf': 1, 'max_depth': 20}\n"
     ]
    }
   ],
   "source": [
    "#Step -5 : Apply Randomized search cv\n",
    "random_search= RandomizedSearchCV(RandomForestClassifier(),param_grid,n_iter=10,cv=5,n_jobs=-1,verbose=1,random_state=42)\n",
    "random_search.fit(x_train,y_train)\n",
    "#Get best parameters\n",
    "print(\"Best parameters for Randomized search:\",random_search.best_params_)"
   ]
  },
  {
   "cell_type": "code",
   "execution_count": 11,
   "id": "818f6eb1",
   "metadata": {},
   "outputs": [
    {
     "name": "stdout",
     "output_type": "stream",
     "text": [
      "Grid Search Accuracy: 1.00\n",
      "Random Search Accuracy: 1.00\n"
     ]
    }
   ],
   "source": [
    "#Step -6 : Evaluate model performance\n",
    "#Train models with best parameters\n",
    "best_grid_model = grid_search.best_estimator_\n",
    "best_random_model = random_search.best_estimator_\n",
    "\n",
    "#predictions\n",
    "y_pred_grid = best_grid_model.predict(x_test)\n",
    "y_pred_random = best_random_model.predict(x_test) \n",
    "\n",
    "#Accuracy Scores\n",
    "acc_grid = accuracy_score(y_test,y_pred_grid)\n",
    "acc_random = accuracy_score(y_test,y_pred_random)\n",
    "\n",
    "print(f'Grid Search Accuracy: {acc_grid:.2f}')\n",
    "print(f'Random Search Accuracy: {acc_random:.2f}')\n"
   ]
  },
  {
   "cell_type": "code",
   "execution_count": null,
   "id": "d5ccbed2",
   "metadata": {},
   "outputs": [],
   "source": []
  }
 ],
 "metadata": {
  "kernelspec": {
   "display_name": "Python 3 (ipykernel)",
   "language": "python",
   "name": "python3"
  },
  "language_info": {
   "codemirror_mode": {
    "name": "ipython",
    "version": 3
   },
   "file_extension": ".py",
   "mimetype": "text/x-python",
   "name": "python",
   "nbconvert_exporter": "python",
   "pygments_lexer": "ipython3",
   "version": "3.11.5"
  }
 },
 "nbformat": 4,
 "nbformat_minor": 5
}
