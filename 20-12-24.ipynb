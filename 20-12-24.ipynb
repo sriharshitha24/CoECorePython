{
 "cells": [
  {
   "cell_type": "code",
   "execution_count": 3,
   "id": "00668e9a-2508-448d-a5da-36195fb5fe59",
   "metadata": {},
   "outputs": [
    {
     "name": "stdin",
     "output_type": "stream",
     "text": [
      "enter your password: Harshitha@123\n"
     ]
    },
    {
     "name": "stdout",
     "output_type": "stream",
     "text": [
      "Strong:good password\n"
     ]
    }
   ],
   "source": [
    "password=input(\"enter your password:\")\n",
    "special=['!','@','#','$','%','^','&','*','_']\n",
    "space=\" \"\n",
    "def check_password(password):\n",
    "    if len(password)<10 or len(password)>15:\n",
    "        return \"Weak:password should contain min 10 char and max 15 char\"\n",
    "    elif not any(char.isupper() for char in password):\n",
    "        return \"Moderate:use at least one uppercase letter\"\n",
    "    elif not any(char.islower() for char in password):\n",
    "        return \"Moderate:use atleast one lowercase letter\"\n",
    "    elif not any(char.isdigit() for char in password):\n",
    "        return \"Moderate:use atleast one digit\"\n",
    "    elif not any(char in special for char in password):\n",
    "        return \"Moderate:use atleast one special char\"\n",
    "    elif ' ' in password:\n",
    "        return \"Moderate:white spcaes are not allowed\"\n",
    "    elif password.endswith('.') or password.endswith('@'):\n",
    "        return \"Moderate:password should not end with dot or @\"\n",
    "    else:\n",
    "        return \"Strong:good password\"\n",
    "result=check_password(password)\n",
    "print(result)"
   ]
  },
  {
   "cell_type": "code",
   "execution_count": 7,
   "id": "9e31cd55-8776-486b-87c4-7e04752046b4",
   "metadata": {},
   "outputs": [
    {
     "data": {
      "text/plain": [
       "720"
      ]
     },
     "execution_count": 7,
     "metadata": {},
     "output_type": "execute_result"
    }
   ],
   "source": [
    "def fact(n):\n",
    "    if n==0 or n==1:\n",
    "        return 1\n",
    "    else:\n",
    "        return n*fact(n-1)\n",
    "fact(6)"
   ]
  },
  {
   "cell_type": "code",
   "execution_count": 11,
   "id": "679f9c82-84ed-4b39-9be2-1f20dedb6601",
   "metadata": {},
   "outputs": [
    {
     "name": "stdout",
     "output_type": "stream",
     "text": [
      "cart items:{'lap': 50000, 'headphones': 2000, 'mouse': 3500, 'key': 1500, 'monitor': 8000, 'usb': 1000}\n",
      "total price:59400.0\n"
     ]
    }
   ],
   "source": [
    "def calculate(cart):\n",
    "    total=sum(cart.values())\n",
    "    if len(cart)>5:\n",
    "        total*=0.9\n",
    "    return total\n",
    "cart={'lap':50000,'headphones':2000,'mouse':3500,'key':1500,'monitor':8000,'usb':1000}\n",
    "print(f\"cart items:{cart}\")\n",
    "print(f\"total price:{calculate(cart)}\")"
   ]
  },
  {
   "cell_type": "code",
   "execution_count": 13,
   "id": "75f4114f-7a19-448b-aeb9-e157b30e0bce",
   "metadata": {},
   "outputs": [
    {
     "name": "stdout",
     "output_type": "stream",
     "text": [
      "cart items:{'lap': 50000, 'headphones': 2000, 'mouse': 3500, 'key': 1500, 'monitor': 8000, 'usb': 1000}\n",
      "total price:56100.0\n"
     ]
    }
   ],
   "source": [
    "def calculate(cart):\n",
    "    total=sum(cart.values())\n",
    "    if total in range(20000,50000):\n",
    "        total*=0.9\n",
    "        return total\n",
    "    elif total>50000:\n",
    "        total*=0.85\n",
    "        return total\n",
    "cart={'lap':50000,'headphones':2000,'mouse':3500,'key':1500,'monitor':8000,'usb':1000}\n",
    "print(f\"cart items:{cart}\")\n",
    "print(f\"total price:{calculate(cart)}\")  "
   ]
  },
  {
   "cell_type": "code",
   "execution_count": null,
   "id": "2ea53437-1209-42a7-ad1e-2b941afa3287",
   "metadata": {},
   "outputs": [],
   "source": []
  }
 ],
 "metadata": {
  "kernelspec": {
   "display_name": "Python 3 (ipykernel)",
   "language": "python",
   "name": "python3"
  },
  "language_info": {
   "codemirror_mode": {
    "name": "ipython",
    "version": 3
   },
   "file_extension": ".py",
   "mimetype": "text/x-python",
   "name": "python",
   "nbconvert_exporter": "python",
   "pygments_lexer": "ipython3",
   "version": "3.12.7"
  }
 },
 "nbformat": 4,
 "nbformat_minor": 5
}
